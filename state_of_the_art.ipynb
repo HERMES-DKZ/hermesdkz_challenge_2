{
 "cells": [
  {
   "cell_type": "code",
   "execution_count": null,
   "id": "0f27b68d-95eb-4724-8d5b-abb510a9a98a",
   "metadata": {},
   "outputs": [],
   "source": [
    "from tensorflow.keras.preprocessing.image import load_img\n",
    "from tensorflow.keras.applications.vgg16 import preprocess_input\n",
    "from tensorflow.keras.applications.vgg16 import VGG16\n",
    "from tensorflow.keras.models import Model\n",
    "import os\n",
    "import numpy as np"
   ]
  },
  {
   "cell_type": "code",
   "execution_count": null,
   "id": "553bd1d9-474b-4f56-95c7-5822ef3f809b",
   "metadata": {},
   "outputs": [],
   "source": [
    "def image_files(path):\n",
    "    '''\n",
    "    Creates a list with the names of the images to be processed.\n",
    "    '''\n",
    "    image_files = []\n",
    "    # creates a ScandirIterator aliased as files\n",
    "    with os.scandir(path) as files:\n",
    "        for file in files:\n",
    "            if file.name.endswith('.png'):\n",
    "                # adds only the image files to the list\n",
    "                image_files.append(file.name)\n",
    "    return image_files\n",
    "\n",
    "\n",
    "def load_model():\n",
    "    model = VGG16()\n",
    "    model = Model(inputs = model.inputs, outputs = model.output)\n",
    "    return model\n",
    "\n",
    "\n",
    "def recognize_objects(file, path, model):\n",
    "    '''\n",
    "    Recognizes objects in an image file using the VGG16 model.\n",
    "    '''\n",
    "    # load the image as a 224x224 array\n",
    "    img = load_img(f'{path}/{file}', target_size=(224,224))\n",
    "    # convert from 'PIL.Image.Image' to numpy array\n",
    "    img = np.array(img)\n",
    "    # reshape the data for the model reshape(num_of_samples, dim 1, dim 2, channels)\n",
    "    reshaped_img = img.reshape(1,224,224,3)\n",
    "    # prepare image for model\n",
    "    imgx = preprocess_input(reshaped_img)\n",
    "    # get object names\n",
    "    objects = model.predict(imgx)\n",
    "    return objects"
   ]
  },
  {
   "cell_type": "code",
   "execution_count": null,
   "id": "fe6885f8-8cdf-47e5-a2f9-384cc656f59f",
   "metadata": {},
   "outputs": [],
   "source": [
    "path = \"./data\"\n",
    "model = load_model()\n",
    "files = image_files(path)\n",
    "\n",
    "for file in files: \n",
    "    objects= recognize_objects(file, path, model)\n",
    "    print (f'Objects detected in {file} are:')\n",
    "    print (objects)"
   ]
  }
 ],
 "metadata": {
  "kernelspec": {
   "display_name": "Python 3 (ipykernel)",
   "language": "python",
   "name": "python3"
  },
  "language_info": {
   "codemirror_mode": {
    "name": "ipython",
    "version": 3
   },
   "file_extension": ".py",
   "mimetype": "text/x-python",
   "name": "python",
   "nbconvert_exporter": "python",
   "pygments_lexer": "ipython3",
   "version": "3.10.6"
  }
 },
 "nbformat": 4,
 "nbformat_minor": 5
}

{
 "cells": [
  {
   "cell_type": "markdown",
   "id": "87e6efec-1be1-48e5-a553-4e8df886623a",
   "metadata": {},
   "source": [
    "# Testing the performance of VGG16"
   ]
  },
  {
   "cell_type": "code",
   "execution_count": 1,
   "id": "4f25ef07-9f97-4351-acd2-85cde9964e89",
   "metadata": {},
   "outputs": [],
   "source": [
    "# import cv2\n",
    "# import os\n",
    "\n",
    "# input_folder = \"./data\"\n",
    "# output_folder = \"./data\"\n",
    "\n",
    "# os.makedirs(output_folder, exist_ok=True)  # Ensure output directory exists\n",
    "\n",
    "# for filename in os.listdir(input_folder):\n",
    "#     if filename.endswith(\".png\"):  \n",
    "#         img_path = os.path.join(input_folder, filename)\n",
    "        \n",
    "#         # Read the image (forcefully add an alpha channel if missing)\n",
    "#         img = cv2.imread(img_path, cv2.IMREAD_UNCHANGED)\n",
    "        \n",
    "#         if img.shape[2] == 3:  # If no alpha channel, add one\n",
    "#             b, g, r = cv2.split(img)\n",
    "#             a = np.ones_like(b) * 255  # Create a full white alpha channel\n",
    "#             img = cv2.merge((b, g, r, a))\n",
    "\n",
    "#         # Save image\n",
    "#         cv2.imwrite(os.path.join(output_folder, filename), img)\n",
    "#         print(f\"Converted {filename} to RGBA.\")"
   ]
  },
  {
   "cell_type": "code",
   "execution_count": 2,
   "id": "0f27b68d-95eb-4724-8d5b-abb510a9a98a",
   "metadata": {},
   "outputs": [
    {
     "name": "stderr",
     "output_type": "stream",
     "text": [
      "2025-02-25 12:52:49.734259: I tensorflow/core/util/port.cc:153] oneDNN custom operations are on. You may see slightly different numerical results due to floating-point round-off errors from different computation orders. To turn them off, set the environment variable `TF_ENABLE_ONEDNN_OPTS=0`.\n",
      "2025-02-25 12:52:49.756742: E external/local_xla/xla/stream_executor/cuda/cuda_fft.cc:477] Unable to register cuFFT factory: Attempting to register factory for plugin cuFFT when one has already been registered\n",
      "WARNING: All log messages before absl::InitializeLog() is called are written to STDERR\n",
      "E0000 00:00:1740484369.771097   87946 cuda_dnn.cc:8310] Unable to register cuDNN factory: Attempting to register factory for plugin cuDNN when one has already been registered\n",
      "E0000 00:00:1740484369.774707   87946 cuda_blas.cc:1418] Unable to register cuBLAS factory: Attempting to register factory for plugin cuBLAS when one has already been registered\n",
      "2025-02-25 12:52:49.791617: I tensorflow/core/platform/cpu_feature_guard.cc:210] This TensorFlow binary is optimized to use available CPU instructions in performance-critical operations.\n",
      "To enable the following instructions: AVX2 AVX_VNNI FMA, in other operations, rebuild TensorFlow with the appropriate compiler flags.\n",
      "/home/rallypal/.pyenv/versions/lewagon/lib/python3.10/site-packages/scipy/__init__.py:146: UserWarning: A NumPy version >=1.17.3 and <1.25.0 is required for this version of SciPy (detected version 1.26.4\n",
      "  warnings.warn(f\"A NumPy version >={np_minversion} and <{np_maxversion}\"\n"
     ]
    }
   ],
   "source": [
    "from tensorflow.keras.preprocessing.image import load_img, img_to_array\n",
    "from tensorflow.keras.applications.vgg16 import preprocess_input\n",
    "from tensorflow.keras.applications.vgg16 import decode_predictions\n",
    "from tensorflow.keras.applications.vgg16 import VGG16\n",
    "from tensorflow.keras.models import Model\n",
    "from tensorflow import keras\n",
    "import tensorflow as tf\n",
    "import os\n",
    "import numpy as np"
   ]
  },
  {
   "cell_type": "code",
   "execution_count": 5,
   "id": "5166ad0b-b4d3-48cb-9d53-d26207a5ee4b",
   "metadata": {},
   "outputs": [],
   "source": [
    "tf.config.set_visible_devices([], 'GPU')"
   ]
  },
  {
   "cell_type": "code",
   "execution_count": 14,
   "id": "553bd1d9-474b-4f56-95c7-5822ef3f809b",
   "metadata": {},
   "outputs": [],
   "source": [
    "def image_files(path):\n",
    "    '''\n",
    "    Creates a list with the names of the images to be processed.\n",
    "    '''\n",
    "    image_files = []\n",
    "    # creates a ScandirIterator aliased as files\n",
    "    with os.scandir(path) as files:\n",
    "        for file in files:\n",
    "            if file.name.endswith('.jpg'):\n",
    "                # adds only the image files to the list\n",
    "                image_files.append(file.name)\n",
    "    return sorted(image_files)\n",
    "\n",
    "\n",
    "def load_model():\n",
    "    model = VGG16()\n",
    "    model = Model(inputs = model.inputs, outputs = model.output)\n",
    "    return model\n",
    "\n",
    "\n",
    "def recognize_objects(file, path, model):\n",
    "    '''\n",
    "    Recognizes objects in an image file using the VGG16 model.\n",
    "    '''\n",
    "    # load the image as a 224x224 array\n",
    "    img = load_img(f'{path}/{file}', target_size=(224,224))\n",
    "    # convert from 'PIL.Image.Image' to numpy array\n",
    "    img = np.array(img, dtype=np.float32)\n",
    "    \n",
    "    reshaped_img = img.reshape(1,224,224,3)\n",
    "    # prepare image for model\n",
    "    imgx = preprocess_input(reshaped_img)\n",
    "    # get the feature vector\n",
    "    objects = model.predict(imgx)\n",
    "\n",
    "    return objects"
   ]
  },
  {
   "cell_type": "code",
   "execution_count": 15,
   "id": "fe6885f8-8cdf-47e5-a2f9-384cc656f59f",
   "metadata": {
    "scrolled": true
   },
   "outputs": [
    {
     "name": "stdout",
     "output_type": "stream",
     "text": [
      "\u001b[1m1/1\u001b[0m \u001b[32m━━━━━━━━━━━━━━━━━━━━\u001b[0m\u001b[37m\u001b[0m \u001b[1m0s\u001b[0m 210ms/step"
     ]
    },
    {
     "name": "stderr",
     "output_type": "stream",
     "text": [
      "/home/rallypal/.pyenv/versions/lewagon/lib/python3.10/site-packages/keras/src/models/functional.py:237: UserWarning: The structure of `inputs` doesn't match the expected structure.\n",
      "Expected: ['keras_tensor_115']\n",
      "Received: inputs=Tensor(shape=(1, 224, 224, 3))\n",
      "  warnings.warn(msg)\n"
     ]
    },
    {
     "name": "stdout",
     "output_type": "stream",
     "text": [
      "\u001b[1m1/1\u001b[0m \u001b[32m━━━━━━━━━━━━━━━━━━━━\u001b[0m\u001b[37m\u001b[0m \u001b[1m0s\u001b[0m 233ms/step\n",
      "Objects detected in 01.jpg are:\n",
      "1. crutch (7.83%)\n",
      "2. swab (7.47%)\n",
      "3. drum (6.01%)\n",
      "4. panpipe (5.55%)\n",
      "5. sombrero (3.34%)\n",
      "\n",
      "\u001b[1m1/1\u001b[0m \u001b[32m━━━━━━━━━━━━━━━━━━━━\u001b[0m\u001b[37m\u001b[0m \u001b[1m0s\u001b[0m 124ms/step\n",
      "Objects detected in 02.jpg are:\n",
      "1. fountain (15.15%)\n",
      "2. swab (6.54%)\n",
      "3. crutch (6.14%)\n",
      "4. umbrella (5.21%)\n",
      "5. trench_coat (4.38%)\n",
      "\n",
      "\u001b[1m1/1\u001b[0m \u001b[32m━━━━━━━━━━━━━━━━━━━━\u001b[0m\u001b[37m\u001b[0m \u001b[1m0s\u001b[0m 126ms/step\n",
      "Objects detected in 03.jpg are:\n",
      "1. trench_coat (9.80%)\n",
      "2. hair_spray (9.43%)\n",
      "3. abaya (8.95%)\n",
      "4. academic_gown (7.39%)\n",
      "5. cleaver (7.20%)\n",
      "\n",
      "\u001b[1m1/1\u001b[0m \u001b[32m━━━━━━━━━━━━━━━━━━━━\u001b[0m\u001b[37m\u001b[0m \u001b[1m0s\u001b[0m 130ms/step\n",
      "Objects detected in 04.jpg are:\n",
      "1. library (22.30%)\n",
      "2. gondola (19.80%)\n",
      "3. bookshop (18.81%)\n",
      "4. streetcar (16.26%)\n",
      "5. prison (2.46%)\n",
      "\n",
      "\u001b[1m1/1\u001b[0m \u001b[32m━━━━━━━━━━━━━━━━━━━━\u001b[0m\u001b[37m\u001b[0m \u001b[1m0s\u001b[0m 130ms/step\n",
      "Objects detected in 05.jpg are:\n",
      "1. obelisk (16.47%)\n",
      "2. church (9.61%)\n",
      "3. beacon (9.59%)\n",
      "4. flagpole (8.93%)\n",
      "5. megalith (7.47%)\n",
      "\n",
      "\u001b[1m1/1\u001b[0m \u001b[32m━━━━━━━━━━━━━━━━━━━━\u001b[0m\u001b[37m\u001b[0m \u001b[1m0s\u001b[0m 136ms/step\n",
      "Objects detected in 06.jpg are:\n",
      "1. limousine (81.23%)\n",
      "2. groom (5.36%)\n",
      "3. miniskirt (4.24%)\n",
      "4. bullet_train (1.67%)\n",
      "5. recreational_vehicle (0.90%)\n",
      "\n",
      "\u001b[1m1/1\u001b[0m \u001b[32m━━━━━━━━━━━━━━━━━━━━\u001b[0m\u001b[37m\u001b[0m \u001b[1m0s\u001b[0m 134ms/step\n",
      "Objects detected in 07.jpg are:\n",
      "1. bikini (16.95%)\n",
      "2. mask (11.32%)\n",
      "3. totem_pole (10.34%)\n",
      "4. feather_boa (9.43%)\n",
      "5. Band_Aid (7.29%)\n",
      "\n",
      "\u001b[1m1/1\u001b[0m \u001b[32m━━━━━━━━━━━━━━━━━━━━\u001b[0m\u001b[37m\u001b[0m \u001b[1m0s\u001b[0m 136ms/step\n",
      "Objects detected in 08.jpg are:\n",
      "1. amphibian (13.48%)\n",
      "2. half_track (7.18%)\n",
      "3. oxcart (7.11%)\n",
      "4. military_uniform (4.53%)\n",
      "5. groom (3.48%)\n",
      "\n",
      "\u001b[1m1/1\u001b[0m \u001b[32m━━━━━━━━━━━━━━━━━━━━\u001b[0m\u001b[37m\u001b[0m \u001b[1m0s\u001b[0m 126ms/step\n",
      "Objects detected in 09.jpg are:\n",
      "1. hook (14.68%)\n",
      "2. fountain (7.77%)\n",
      "3. nail (6.54%)\n",
      "4. pedestal (5.36%)\n",
      "5. pole (4.85%)\n",
      "\n",
      "\u001b[1m1/1\u001b[0m \u001b[32m━━━━━━━━━━━━━━━━━━━━\u001b[0m\u001b[37m\u001b[0m \u001b[1m0s\u001b[0m 133ms/step\n",
      "Objects detected in 10.jpg are:\n",
      "1. pole (14.26%)\n",
      "2. wig (11.25%)\n",
      "3. hand_blower (6.85%)\n",
      "4. fountain (6.36%)\n",
      "5. microphone (4.64%)\n",
      "\n"
     ]
    }
   ],
   "source": [
    "path = \"./data\"\n",
    "model = load_model()\n",
    "#print(model.input_shape)  # Expected input shape\n",
    "\n",
    "files = image_files(path)\n",
    "\n",
    "for file in files: \n",
    "    preds= recognize_objects(file, path, model)\n",
    "    top_preds = decode_predictions(preds, top=5)[0]\n",
    "\n",
    "    print(f\"Objects detected in {file} are:\")\n",
    "    for i, (imagenet_id, label, score) in enumerate(top_preds):\n",
    "        print(f\"{i+1}. {label} ({score*100:.2f}%)\")\n",
    "    print()\n",
    "       "
   ]
  },
  {
   "cell_type": "markdown",
   "id": "891deeac-e971-4c12-89bb-15f0f55aa95f",
   "metadata": {},
   "source": [
    "# Testing the performance of CLIP:"
   ]
  },
  {
   "cell_type": "code",
   "execution_count": 30,
   "id": "0f657748-092a-4498-b124-d0255c8333f2",
   "metadata": {},
   "outputs": [
    {
     "name": "stdout",
     "output_type": "stream",
     "text": [
      "Images that display a smiling woman:\n",
      "data/02.jpg\n",
      "data/03.jpg\n",
      "data/09.jpg\n",
      "data/10.jpg\n"
     ]
    }
   ],
   "source": [
    "import os\n",
    "import torch\n",
    "import clip\n",
    "from PIL import Image\n",
    "from pathlib import Path\n",
    "\n",
    "# Load the CLIP model and preprocessing function\n",
    "device = \"cuda\" if torch.cuda.is_available() else \"cpu\"\n",
    "model, preprocess = clip.load(\"ViT-B/32\", device=device)\n",
    "\n",
    "prompt= 'a smiling woman'\n",
    "text = clip.tokenize([prompt]).to(device)\n",
    "\n",
    "# Path to the image directory\n",
    "image_dir = Path(\"./data\")\n",
    "\n",
    "my_images = []\n",
    "\n",
    "for image_path in sorted(image_dir.glob(\"*.jpg\")):  \n",
    "    image = preprocess(Image.open(image_path)).unsqueeze(0).to(device)\n",
    "    # Compute image features\n",
    "    with torch.no_grad():\n",
    "        image_features = model.encode_image(image)\n",
    "        text_features = model.encode_text(text)\n",
    "\n",
    "    # Compute similarity score between the image and the \"car\" prompt\n",
    "    similarity = image_features @ text_features.T\n",
    "\n",
    "    # The threshold is the key!\n",
    "    threshold = 23.0  \n",
    "    if similarity.item() > threshold:\n",
    "        my_images.append(image_path)\n",
    "\n",
    "print(f\"Images that display {prompt}:\")\n",
    "for each_image in my_images:\n",
    "    print(each_image)"
   ]
  },
  {
   "cell_type": "code",
   "execution_count": null,
   "id": "46323dc7-75a3-48a3-a92d-0f31b3bb3fc2",
   "metadata": {},
   "outputs": [],
   "source": []
  },
  {
   "cell_type": "code",
   "execution_count": null,
   "id": "48ac7310-74cf-4d9f-a36c-02f408cdbac4",
   "metadata": {},
   "outputs": [],
   "source": []
  }
 ],
 "metadata": {
  "kernelspec": {
   "display_name": "Python 3 (ipykernel)",
   "language": "python",
   "name": "python3"
  },
  "language_info": {
   "codemirror_mode": {
    "name": "ipython",
    "version": 3
   },
   "file_extension": ".py",
   "mimetype": "text/x-python",
   "name": "python",
   "nbconvert_exporter": "python",
   "pygments_lexer": "ipython3",
   "version": "3.10.6"
  }
 },
 "nbformat": 4,
 "nbformat_minor": 5
}
